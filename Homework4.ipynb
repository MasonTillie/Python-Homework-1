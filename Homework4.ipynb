{
 "cells": [
  {
   "cell_type": "code",
   "execution_count": 21,
   "metadata": {},
   "outputs": [
    {
     "name": "stdout",
     "output_type": "stream",
     "text": [
      "You have added apple to your Shopping Cart!\n",
      "Your shopping cart currently has <bound method ShoppingCart.addItem of <__main__.ShoppingCart object at 0x000001E47E35F130>>\n",
      "You have added bread to your Shopping Cart!\n",
      "Your shopping cart currently has <bound method ShoppingCart.addItem of <__main__.ShoppingCart object at 0x000001E47E35F130>>\n"
     ]
    }
   ],
   "source": [
    "class ShoppingCart():\n",
    "    def __init__(self, item, ammount):\n",
    "        self.item = item\n",
    "        self.ammount = ammount\n",
    "        self.allItems = {}\n",
    "    \n",
    "        \n",
    "    def printInfo(self):\n",
    "        print(f'This item is {self.item} and costs {self.ammount}')\n",
    "        \n",
    "    def addItem(self):\n",
    "        item = input('What item would you like too add?' )\n",
    "        itemAmmount = input(f'What is the quantity you would like for {item}? ')\n",
    "        self.allItems[item] =  itemAmmount\n",
    "        print(f'You have added {item} to your Shopping Cart!')\n",
    "        print(f'Your shopping cart currently has {self.addItem}')\n",
    "\n",
    "    def deleteItem(self):\n",
    "        userOption = input('What item would you like to remove? ')\n",
    "        del self.allItems[userOption]\n",
    "        print(f'You have removed {userOption} from your shopping cart!')\n",
    "\n",
    "    def showItems(self):\n",
    "        print(f'You have {self.ammount} {self.item}s in your shopping cart.')\n",
    "        for key,value in self.allItems.items():\n",
    "            print(key,value)\n",
    "\n",
    "\n",
    "\n",
    "\n",
    "\n",
    "\n",
    "\n",
    "\n",
    "item1 = ShoppingCart('Apple', 2.99)\n",
    "\n",
    "def runner():\n",
    "    while True:\n",
    "        userOption = input('Would you like to Add/Delete or Show your items?').title()\n",
    "        if userOption == 'Quit':\n",
    "            item1.showItems()\n",
    "            break\n",
    "        elif userOption == 'Add':\n",
    "            item1.addItem()\n",
    "        elif userOption == 'Delete':\n",
    "            item1.deleteItem()\n",
    "        elif userOption == 'Show':\n",
    "            item1.showItems\n",
    "        else:\n",
    "            print('Response not valid, please try again.')\n",
    "\n",
    "runner()\n",
    "\n",
    "\n",
    "\n",
    "\n",
    "\n",
    "item1.addItem()\n",
    "item1.addItem()\n",
    "item1.addItem()\n",
    "item1.addItem()\n",
    "item1.showItems()\n",
    "item1.addItem()\n",
    "item1.deleteItem()\n",
    "\n",
    "\n",
    "\n",
    "\n",
    "    "
   ]
  },
  {
   "cell_type": "code",
   "execution_count": null,
   "metadata": {},
   "outputs": [],
   "source": []
  }
 ],
 "metadata": {
  "kernelspec": {
   "display_name": "Python 3.10.6 64-bit",
   "language": "python",
   "name": "python3"
  },
  "language_info": {
   "codemirror_mode": {
    "name": "ipython",
    "version": 3
   },
   "file_extension": ".py",
   "mimetype": "text/x-python",
   "name": "python",
   "nbconvert_exporter": "python",
   "pygments_lexer": "ipython3",
   "version": "3.10.6"
  },
  "orig_nbformat": 4,
  "vscode": {
   "interpreter": {
    "hash": "b74a687c0cfa2191036c89d06dbe6383b3e45e5cf2ea8f7d59abc5394ae49f24"
   }
  }
 },
 "nbformat": 4,
 "nbformat_minor": 2
}
